{
 "cells": [
  {
   "cell_type": "code",
   "execution_count": 10,
   "metadata": {},
   "outputs": [
    {
     "name": "stdout",
     "output_type": "stream",
     "text": [
      "El Maximo comun divisor  de 3 y 6 es 3\n"
     ]
    }
   ],
   "source": [
    "#Ejercicio 1\n",
    "def calcular_mcd(num1, num2):\n",
    "    # Calcular el MCD utilizando el algoritmo de Euclides\n",
    "    a, b = max(num1, num2), min(num1, num2)\n",
    "    while b > 0:\n",
    "        a, b = b, a % b\n",
    "    \n",
    "    # Mostrar el resultado del cálculo del MCD\n",
    "    print(f\"El Maximo comun divisor  de {num1} y {num2} es {a}\")\n",
    "\n",
    "# Solicitar al usuario que ingrese los números para los cuales se desea calcular el MCD\n",
    "num1 = int(input(\"Ingrese el primer número: \"))\n",
    "num2 = int(input(\"Ingrese el segundo número: \"))\n",
    "\n",
    "# Calcular el MCD y mostrar el resultado\n",
    "calcular_mcd(num1, num2)\n",
    "\n",
    "\n"
   ]
  },
  {
   "cell_type": "code",
   "execution_count": 1,
   "metadata": {},
   "outputs": [
    {
     "name": "stdout",
     "output_type": "stream",
     "text": [
      "La funcion para cuando X vale 20, Y vale 11.665769067237559\n"
     ]
    }
   ],
   "source": [
    "# Ejercicio 2\n",
    "if __name__ == \"__main__\":\n",
    "  a = int(input(\"Ingrese valor de X: \"))\n",
    "  suma = (lambda x : x / (x**(1/3)-1))(a)\n",
    "  print(\"La funcion para cuando X vale \" + str(a) + \", Y vale \" + str(suma))"
   ]
  },
  {
   "cell_type": "code",
   "execution_count": 6,
   "metadata": {},
   "outputs": [],
   "source": [
    "# Ejercicio 4\n",
    "def comparar_numeros():\n",
    "     #Ingresar los números y el modo deseado\n",
    "    num1 = float(input(\"Ingrese el primer número: \"))\n",
    "    num2 = float(input(\"Ingrese el segundo número: \"))\n",
    "    modo = input(\"Ingrese el modo ('mayor' o 'menor'): \").lower()\n",
    "    \n",
    "    # Verificar el modo ingresado y devolver el número mayor o menor según corresponda\n",
    "    if modo == \"mayor\":\n",
    "        resultado = max(num1, num2)\n",
    "    elif modo == \"menor\":\n",
    "        resultado = min(num1, num2)\n",
    "    else:\n",
    "        # Si se ingresa un modo no válido, lanzar una excepción\n",
    "        raise ValueError(\"Modo no válido. Use 'mayor' o 'menor'.\")\n",
    "    \n",
    "    # Mostrar el resultado de la función\n",
    "    print(f\"El {modo} número es: {resultado}\")\n",
    "\n"
   ]
  },
  {
   "cell_type": "code",
   "execution_count": null,
   "metadata": {},
   "outputs": [],
   "source": [
    "#1. Reto 9\n",
    "G = 6.67384e-11 #Establecer la constante G\n",
    "\n",
    "fuerza_gravedad_entre_dos_objetos = lambda masa1, masa2, distancia: G * (masa1 * masa2) / distancia**2 #Establecer la función Lambda\n",
    "\n",
    "if __name__ == \"__main__\":\n",
    "    m1 = float(input(\"Ingrese la masa en Kilogramos del primer objeto: \")) #Ingresar los valores \n",
    "    m2 = float(input(\"Ingrese la masa en Kilogramos del segundo objeto: \")) #Ingresar los valores \n",
    "    d = float(input(\"Ingrese la distancia en metros que los separa: \")) #Ingresar los valores \n",
    "\n",
    "    fuerza_gravedad = fuerza_gravedad_entre_dos_objetos(m1, m2, d) # Calcular la fuerza de gravedad entre dos objetos \n",
    "\n",
    "    print(\"La fuerza de gravedad entre los dos objetos es:\", fuerza_gravedad, \"Newtons\") #Imprimir el resultado\n"
   ]
  },
  {
   "cell_type": "code",
   "execution_count": null,
   "metadata": {},
   "outputs": [],
   "source": [
    "#1. Reto 9\n",
    "\n",
    "import math\n",
    "\n",
    "# Función lambda para calcular el volumen de la figura\n",
    "hallar_volumen_figura = lambda r1, r2, h: (r2**2*h*math.pi)/3 + (r1*3*4*math.pi)/3\n",
    "\n",
    "# Función lambda para calcular el área de la figura\n",
    "hallar_area_de_la_figura = lambda r1, r2, h: (r1*2*4*math.pi) + (r2*math.pi)*(r2+(r2**2+h**2)**(1/2))\n",
    "\n",
    "if __name__ == \"__main__\":\n",
    "    # Ingresar valores \n",
    "    r1 = float(input(\"Ingrese el radio de la esfera que va a utilizar en centimetros: \"))\n",
    "    r2 = float(input(\"Ingrese el radio del cono que va a utilizar en centimetros: \"))\n",
    "    h = float(input(\"Ingrese la altura del cono que va a utilizar en centimetros: \"))\n",
    "\n",
    "    # Calcular el volumen y el área de la figura usando las funciones lambda\n",
    "    volumen_figura =  hallar_volumen_figura(r1,r2,h)\n",
    "    area_figura =   hallar_area_de_la_figura(r1,r2,h) \n",
    "\n",
    "    # Imprimir los resultados\n",
    "    print(\"El volumen de la figura es \" + str(volumen_figura) + \" cm^3\") \n",
    "    print(\"El area de la figura es \" + str(area_figura) * \" cm^2\")\n"
   ]
  },
  {
   "cell_type": "code",
   "execution_count": null,
   "metadata": {},
   "outputs": [],
   "source": [
    "#1. Reto 9\n",
    "# Crear la función lambda que recibe la cantidad de gallinas, gallos y pollitos y devuelve la cantidad de carne de aves en kilos\n",
    "calcular_cantidad_carne_aves = lambda n_gallinas, m_gallos, k_pollitos: (n_gallinas * 6) + (m_gallos * 7) + (k_pollitos * 1)\n",
    "\n",
    "if __name__ == '__main__':\n",
    "    # Pedir la cantidad de aves\n",
    "    n_gallinas = int(input(\"Ingrese la cantidad de gallinas: \"))\n",
    "    m_gallos = int(input(\"Ingrese la cantidad de gallos: \"))\n",
    "    k_pollitos = int(input(\"Ingrese la cantidad de pollitos: \"))\n",
    "\n",
    "    # Calcular la cantidad de carne de aves utilizando la función lambda\n",
    "    cantidad_carne = calcular_cantidad_carne_aves(n_gallinas, m_gallos, k_pollitos)\n",
    "\n",
    "    # Imprimir el resultado\n",
    "    print(\"La cantidad de carne de aves es:\", cantidad_carne, \"kilos.\")\n"
   ]
  },
  {
   "cell_type": "code",
   "execution_count": null,
   "metadata": {},
   "outputs": [],
   "source": [
    "# 2. Reto 9\n",
    "\n",
    "def d(*args: float) -> float:\n",
    "\n",
    "    p, m, h, b = args\n",
    "    total = (p * 300) + (m * 3300) + (h * 350)\n",
    "    cambio = b - total\n",
    "    return cambio\n",
    "\n",
    "\n",
    "if __name__ == '__main__':\n",
    "    # Pedir las cantidades de pan, leche y huevos, y el dinero entregado.\n",
    "    p = int(input(\"Ingrese la cantidad de panes: \"))\n",
    "    m = int(input(\"Ingrese la cantidad de bolsas de leche: \"))\n",
    "    h = int(input(\"Ingrese la cantidad de huevos: \"))\n",
    "    b = float(input(\"Ingrese la cantidad de dinero entregada: \"))\n",
    "\n",
    "    # Calcular el cambio a entregar.\n",
    "    cambio = d(p, m, h, b)\n",
    "\n",
    "    # Imprimir el resultado.\n",
    "    if cambio < 0:\n",
    "        print(\"El dinero entregado no es suficiente para pagar la compra.\")\n",
    "    else:\n",
    "        print(\"El cambio a entregar es de: $\" + str(cambio))\n"
   ]
  },
  {
   "cell_type": "code",
   "execution_count": 1,
   "metadata": {},
   "outputs": [
    {
     "name": "stdout",
     "output_type": "stream",
     "text": [
      "El número de contagiados después de 3 días serán 180\n"
     ]
    }
   ],
   "source": [
    "# 2. Reto 9\n",
    "\n",
    "# Definir la función 'calculo_contagiados_del_covid' que recibe dos argumentos: el número de contagiados actuales (C) y los días transcurridos (D).\n",
    "def calculo_contagiados_del_covid(C:int, D:int) -> int:\n",
    "    # Calcular el número de contagiados por COVID-19 a partir de la fórmula dada: C*(D)**2\n",
    "    numero_de_contagiados_por_covid = C*(D)**2\n",
    "    # Retornar el resultado del cálculo\n",
    "    return numero_de_contagiados_por_covid\n",
    "\n",
    "# Verificar que el programa se está ejecutando como el archivo principal\n",
    "if __name__ == \"__main__\":\n",
    "    # Ingresar el número de contagiados actuales y los días transcurridos\n",
    "    C= int(input(\"Ingrese el número de contagiados actuales: \"))\n",
    "    D  = int(input(\"Ingrese los días transcurridos: \"))\n",
    "\n",
    "    # Calcular el número de contagiados por COVID-19 utilizando la función 'calculo_contagiados_del_covid'\n",
    "    CA= calculo_contagiados_del_covid(C,D)\n",
    "\n",
    "    # Imprimir el resultado\n",
    "    print(\"El número de contagiados después de \"+ str(D)+ \" días serán \"+ str(CA))\n"
   ]
  },
  {
   "cell_type": "code",
   "execution_count": null,
   "metadata": {},
   "outputs": [],
   "source": [
    "#2. Reto 9 \n",
    "\n",
    "# Definir la función con argumentos no definidos \n",
    "def calcular_valor_prestamo(*args) -> float:\n",
    "    prestamo = args[0]\n",
    "    tasa_interes = args[1]\n",
    "    meses = args[2]\n",
    "    interes = tasa_interes * prestamo / 100\n",
    "    return prestamo + meses * interes\n",
    "\n",
    "if __name__ == '__main__':\n",
    "    prestamo = float(input(\"Ingrese el valor del préstamo en pesos: \"))\n",
    "    tasa_interes = float(input(\"Ingrese la tasa de interés en porcentaje: \"))\n",
    "    meses = int(input(\"Ingrese el número de meses para el préstamo: \"))\n",
    "    valor_prestamo = calcular_valor_prestamo(prestamo, tasa_interes, meses)\n",
    "    \n",
    "    # Imprimir el resultados \n",
    "    print(\"El valor a pagar es de: \" + str(valor_prestamo))"
   ]
  },
  {
   "cell_type": "code",
   "execution_count": 2,
   "metadata": {},
   "outputs": [
    {
     "name": "stdout",
     "output_type": "stream",
     "text": [
      "2 elevado a la 3 es igual a 8\n"
     ]
    }
   ],
   "source": [
    "#3. Reto 9\n",
    "\n",
    "def potencia(base: int, exponente: int) -> int:\n",
    "    # Caso base, si el exponente es 0 entonces la potencia es 1\n",
    "    if exponente == 0:\n",
    "        return 1\n",
    "    # Caso base, si el exponente es 1 entonces la potencia es la base\n",
    "    elif exponente == 1:\n",
    "        return base\n",
    "    # Caso general, se llama recursivamente a la función con un exponente menor y se multiplica por la base\n",
    "    else:\n",
    "        return base * potencia(base, exponente - 1)\n",
    "\n",
    "# Solicitar  la base y el exponente\n",
    "base = int(input(\"Ingrese la base: \"))\n",
    "exponente = int(input(\"Ingrese el exponente: \"))\n",
    "\n",
    "# Calculamr la potencia\n",
    "resultado = potencia(base, exponente)\n",
    "\n",
    "# Imprimir el resultado\n",
    "print(f\"{base} elevado a la {exponente} es igual a {resultado}\")\n"
   ]
  },
  {
   "cell_type": "code",
   "execution_count": null,
   "metadata": {},
   "outputs": [],
   "source": [
    "#4. Reto 9\n",
    "\n",
    "import time  # Importamos el módulo time para medir el tiempo de ejecución\n",
    "\n",
    "# Definimos la función para calcular Fibonacci con recursión\n",
    "def fibonacci_recursion(n):\n",
    "    if n <= 1:\n",
    "        return n\n",
    "    else:\n",
    "        return fibonacci_recursion(n-1) + fibonacci_recursion(n-2)\n",
    "\n",
    "# Definimos la función para calcular Fibonacci con iteración\n",
    "def fibonacci_iteration(n):\n",
    "    if n <= 1:\n",
    "        return n\n",
    "    else:\n",
    "        a, b = 0, 1\n",
    "        for i in range(n-1):\n",
    "            a, b = b, a + b\n",
    "        return b\n",
    "\n",
    "# Pedimos al usuario que ingrese el valor de n\n",
    "n = int(input(\"Ingrese el valor de n: \"))\n",
    "\n",
    "# Fibonacci con recursión\n",
    "start_time_recursion = time.time()  # Tomamos el tiempo actual\n",
    "fib_recursion = fibonacci_recursion(n)  # Calculamos Fibonacci con recursión\n",
    "end_time_recursion = time.time()  # Tomamos el tiempo actual nuevamente\n",
    "timer_recursion = end_time_recursion - start_time_recursion  # Calculamos la diferencia de tiempo\n",
    "print(\"El tiempo de ejecución de Fibonacci con recursión fue de: \" + str(timer_recursion) + \" segundos.\")\n",
    "\n",
    "# Fibonacci con iteración\n",
    "start_time_iteration = time.time()  # Tomamos el tiempo actual\n",
    "fib_iteration = fibonacci_iteration(n)  # Calculamos Fibonacci con iteración\n",
    "end_time_iteration = time.time()  # Tomamos el tiempo actual nuevamente\n",
    "timer_iteration = end_time_iteration - start_time_iteration  # Calculamos la diferencia de tiempo\n",
    "print(\"El tiempo de ejecución de Fibonacci con iteración fue de: \" + str(timer_iteration) + \" segundos.\")\n",
    "\n",
    "# Comparamos tiempos\n",
    "if timer_recursion > timer_iteration:\n",
    "    print(\"Fibonacci con iteración es más rápido que con recursión.\")\n",
    "else:\n",
    "    print(\"Fibonacci con recursión es más rápido que con iteración.\")"
   ]
  }
 ],
 "metadata": {
  "kernelspec": {
   "display_name": "Python 3",
   "language": "python",
   "name": "python3"
  },
  "language_info": {
   "codemirror_mode": {
    "name": "ipython",
    "version": 3
   },
   "file_extension": ".py",
   "mimetype": "text/x-python",
   "name": "python",
   "nbconvert_exporter": "python",
   "pygments_lexer": "ipython3",
   "version": "3.11.2"
  },
  "orig_nbformat": 4
 },
 "nbformat": 4,
 "nbformat_minor": 2
}
